{
 "cells": [
  {
   "cell_type": "markdown",
   "metadata": {},
   "source": [
    "# Git Learning examples walkthrough\n",
    "Some examples of using Git for version control!  Contents:\n",
    "\n",
    "[New local repository](#New-Local-repository)\n",
    "- `init` new local repo\n",
    "- `add` files\n",
    "- `commit` changes\n",
    "- see commit `log`\n",
    "\n",
    "[Have a remote repository](#Have-a-remote-repository)\n",
    "- walk through GitHub repo creation\n",
    "- local repo `remote add`\n",
    "- git `push`\n",
    "- see commit in GitHub\n",
    "- modification/new doc `add`, `commit`, `push`, and see subsequent commits in GitHub\n",
    "\n",
    "[Illustrate distinctness of local git repo and GitHub remote repo](#Illustrate-distinctness-of-local-git-repo-and-GitHub-remote-repo)\n",
    "- delete local clone of repo\n",
    "- remote repo persists in GitHub!\n",
    "\n",
    "[Collaboration](#Collaboration)\n",
    "- `clone` of repo to another filesystem location or computer\n",
    "- show history in GitHub (diffs, etc)\n",
    "\n",
    "[Some Git technical details](#Some-Git-technical-details)\n",
    "- Git verbs and what they do on filesystem -- a `.git` graphic\n",
    "\n",
    "---\n",
    "## New Local repository\n",
    "Creating a new, local, version controlled repository. In this example, we'll have a folder of existing scripts (made on the fly) that will be our sample contents of interest."
   ]
  },
  {
   "cell_type": "code",
   "execution_count": 241,
   "metadata": {},
   "outputs": [
    {
     "name": "stdout",
     "output_type": "stream",
     "text": [
      "\u001b[93mVERBOSE: Performing the operation \"Set Content\" on target \"Path: C:\\Temp\\GitTesting\\sampleProject0-744c2a05-9356-4c9e-bc8c-09735b9ec8e1\\Get-MyChildItem.ps1\".\u001b[0m\n",
      "\u001b[93mVERBOSE: Performing the operation \"Set Content\" on target \"Path: C:\\Temp\\GitTesting\\sampleProject0-744c2a05-9356-4c9e-bc8c-09735b9ec8e1\\Get-MyUnique.ps1\".\u001b[0m\n",
      "\u001b[93mVERBOSE: Performing the operation \"Set Content\" on target \"Path: C:\\Temp\\GitTesting\\sampleProject0-744c2a05-9356-4c9e-bc8c-09735b9ec8e1\\Get-MyPSDrive.ps1\".\u001b[0m\n",
      "\u001b[93mVERBOSE: Performing the operation \"Set Content\" on target \"Path: C:\\Temp\\GitTesting\\sampleProject0-744c2a05-9356-4c9e-bc8c-09735b9ec8e1\\Get-MyVariable.ps1\".\u001b[0m\n",
      "\u001b[93mVERBOSE: Performing the operation \"Set Content\" on target \"Path: C:\\Temp\\GitTesting\\sampleProject0-744c2a05-9356-4c9e-bc8c-09735b9ec8e1\\Get-MyLocation.ps1\".\u001b[0m\n",
      "\u001b[93mVERBOSE: Performing the operation \"Set Content\" on target \"Path: C:\\Temp\\GitTesting\\sampleProject0-744c2a05-9356-4c9e-bc8c-09735b9ec8e1\\Get-MyRunspaceDebug.ps1\".\u001b[0m\n",
      "\n",
      "\n",
      "    Directory: C:\\temp\\GitTesting\\sampleProject0-744c2a05-9356-4c9e-bc8c-09735b9ec8e1\n",
      "\n",
      "Mode                 LastWriteTime         Length Name\n",
      "----                 -------------         ------ ----\n",
      "-a---           6/15/2021  8:35 PM             55 Get-MyChildItem.ps1\n",
      "-a---           6/15/2021  8:35 PM             54 Get-MyLocation.ps1\n",
      "-a---           6/15/2021  8:35 PM             53 Get-MyPSDrive.ps1\n",
      "-a---           6/15/2021  8:35 PM             59 Get-MyRunspaceDebug.ps1\n",
      "-a---           6/15/2021  8:35 PM             52 Get-MyUnique.ps1\n",
      "-a---           6/15/2021  8:35 PM             54 Get-MyVariable.ps1\n",
      "\n"
     ]
    }
   ],
   "source": [
    "## setup for demo some test folder / files / etc, and set location as the new folder\n",
    "($oSampleProjectDirectory = New-Item -ItemType Directory -Path C:\\Temp\\GitTesting\\sampleProject0-$(New-Guid)) | Set-Location\n",
    "## create a few, clearly useful scripts that represent some body of code/scripts/documents that are the items we want in our repo\n",
    "Get-Command -Module Microsoft.PowerShell.Utility, Microsoft.PowerShell.Management -Verb Get | Get-Random -Count 6 |\n",
    "    ForEach-Object {\n",
    "        Set-Content -Path (Join-Path -Path $oSampleProjectDirectory.FullName -ChildPath (\"{0}-My{1}.ps1\" -f $_.Verb, $_.Noun)) `\n",
    "            -Value \"# some cool script we use all the time\", $_.Name -Verbose\n",
    "    }\n",
    "\n",
    "## see the contents of our sample project folder\n",
    "$oSampleProjectDirectory | Get-ChildItem -OutVariable arrOurScriptFilesInfo"
   ]
  },
  {
   "cell_type": "markdown",
   "metadata": {},
   "source": [
    "### Initialize new local repo\n",
    "Here we have a now a local folder of our super useful scripts and possibly accompanying docs whose versions we want to start controlling via Git. In order to make a new Git version control repository, we initialize said new repository with the verb [init](https://git-scm.com/docs/git-init). There is a parameter supplied here, too, to specify the name of the primary \"branch\" of the repository (we'll call it `main`)"
   ]
  },
  {
   "cell_type": "code",
   "execution_count": 242,
   "metadata": {},
   "outputs": [
    {
     "name": "stdout",
     "output_type": "stream",
     "text": [
      "Microsoft.PowerShell.Core\\FileSystem::C:\\temp\\GitTesting\\sampleProject0-744c2a05-9356-4c9e-bc8c-09735b9ec8e1\n",
      "Initialized empty Git repository in C:/temp/GitTesting/sampleProject0-744c2a05-9356-4c9e-bc8c-09735b9ec8e1/.git/\n"
     ]
    }
   ],
   "source": [
    "(Get-Location).Path ## show that we are currently in our folder of files that we want to use for our new repo\n",
    "git init --initial-branch main"
   ]
  },
  {
   "cell_type": "markdown",
   "metadata": {},
   "source": [
    "### Status\n",
    "To see the status of our local repository, we use the `status` verb. This shows us things like new (\"untracked\") / modified / deleted files in the working directory, the branch on which we are, along with contextual info about what next"
   ]
  },
  {
   "cell_type": "code",
   "execution_count": 243,
   "metadata": {},
   "outputs": [
    {
     "name": "stdout",
     "output_type": "stream",
     "text": [
      "On branch main\n",
      "\n",
      "No commits yet\n",
      "\n",
      "Untracked files:\n",
      "  (use \"git add <file>...\" to include in what will be committed)\n",
      "\tGet-MyChildItem.ps1\n",
      "\tGet-MyLocation.ps1\n",
      "\tGet-MyPSDrive.ps1\n",
      "\tGet-MyRunspaceDebug.ps1\n",
      "\tGet-MyUnique.ps1\n",
      "\tGet-MyVariable.ps1\n",
      "\n",
      "nothing added to commit but untracked files present (use \"git add\" to track)\n"
     ]
    }
   ],
   "source": [
    "## get the git status\n",
    "git status"
   ]
  },
  {
   "cell_type": "markdown",
   "metadata": {},
   "source": [
    "Here we see that there are no commits, yet, that we have a bunch of new (\"untracked\") files, and that we can do something like `git add` to stage some files"
   ]
  },
  {
   "cell_type": "markdown",
   "metadata": {},
   "source": [
    "### Add\n",
    "In order to include new and modified files in our repository, we first `add` them to the list of items to be committed"
   ]
  },
  {
   "cell_type": "code",
   "execution_count": 244,
   "metadata": {},
   "outputs": [
    {
     "name": "stdout",
     "output_type": "stream",
     "text": [
      "add 'Get-MyChildItem.ps1'\n",
      "add 'Get-MyLocation.ps1'\n",
      "add 'Get-MyPSDrive.ps1'\n",
      "add 'Get-MyRunspaceDebug.ps1'\n",
      "add 'Get-MyUnique.ps1'\n",
      "add 'Get-MyVariable.ps1'\n"
     ]
    }
   ],
   "source": [
    "## add some files to be a part of our repository\n",
    "git add $arrOurScriptFilesInfo --verbose"
   ]
  },
  {
   "cell_type": "markdown",
   "metadata": {},
   "source": [
    "Here, the variable `$arrOurScriptFilesInfo` holds the `FileInfo` info for all of the files in our working directory. We can explicitly name the files to add, use wildcards, take input from other commands, etc.\n",
    "\n",
    "Let's check the repository status again, after having added those files"
   ]
  },
  {
   "cell_type": "code",
   "execution_count": 245,
   "metadata": {},
   "outputs": [
    {
     "name": "stdout",
     "output_type": "stream",
     "text": [
      "On branch main\n",
      "\n",
      "No commits yet\n",
      "\n",
      "Changes to be committed:\n",
      "  (use \"git rm --cached <file>...\" to unstage)\n",
      "\tnew file:   Get-MyChildItem.ps1\n",
      "\tnew file:   Get-MyLocation.ps1\n",
      "\tnew file:   Get-MyPSDrive.ps1\n",
      "\tnew file:   Get-MyRunspaceDebug.ps1\n",
      "\tnew file:   Get-MyUnique.ps1\n",
      "\tnew file:   Get-MyVariable.ps1\n",
      "\n"
     ]
    }
   ],
   "source": [
    "git status"
   ]
  },
  {
   "cell_type": "markdown",
   "metadata": {},
   "source": [
    "Progress -- we have some changes to be committed, now! Look at all those new files"
   ]
  },
  {
   "cell_type": "markdown",
   "metadata": {},
   "source": [
    "### Commit\n",
    "Once we have added (\"staged\") some changes for our repository, we then `commit` those changes. We want to have a meaningful message about what we achieved in this commit, so that others can quickly/easily understand the purpose of the commit (should not describe every character that was altered -- there are `diff`s for that)"
   ]
  },
  {
   "cell_type": "code",
   "execution_count": 246,
   "metadata": {},
   "outputs": [
    {
     "name": "stdout",
     "output_type": "stream",
     "text": [
      "[main (root-commit) 278e250] Initial commit to get our valuable scripts into our new repo\n",
      " 6 files changed, 12 insertions(+)\n",
      " create mode 100644 Get-MyChildItem.ps1\n",
      " create mode 100644 Get-MyLocation.ps1\n",
      " create mode 100644 Get-MyPSDrive.ps1\n",
      " create mode 100644 Get-MyRunspaceDebug.ps1\n",
      " create mode 100644 Get-MyUnique.ps1\n",
      " create mode 100644 Get-MyVariable.ps1\n"
     ]
    }
   ],
   "source": [
    "git commit --message \"Initial commit to get our valuable scripts into our new repo\""
   ]
  },
  {
   "cell_type": "markdown",
   "metadata": {},
   "source": [
    "### Log\n",
    "We are building a history for all of the things in our repository. To see info about when we committed such changes, we use the git `log`. Let's see what our repository's log looks like now"
   ]
  },
  {
   "cell_type": "code",
   "execution_count": 247,
   "metadata": {},
   "outputs": [
    {
     "name": "stdout",
     "output_type": "stream",
     "text": [
      "commit 278e25020d2834084c2a35e85efcaa6e0eaf29ca\n",
      "Author: MTBoren <technology@ddayinc.com>\n",
      "Date:   Tue Jun 15 20:35:49 2021 -0400\n",
      "\n",
      "    Initial commit to get our valuable scripts into our new repo\n"
     ]
    }
   ],
   "source": [
    "git log"
   ]
  },
  {
   "cell_type": "markdown",
   "metadata": {},
   "source": [
    "Alright -- we have a legit commit with things like the author info, the date/time of the commit, the commit ID, and the commit message -- yess!"
   ]
  },
  {
   "cell_type": "markdown",
   "metadata": {},
   "source": [
    "---\n",
    "## Have a remote repository\n",
    "Using a local repository for controlling version of our important things is great. For many reasons, though, we want to then leverage the power of adding a _remote_ repository at which to house an authoritative copy of our repository/code/documents -- the source of truth!\n",
    "\n",
    "For this, we will create a new remote repository on the wildly popular GitHub social coding platform\n",
    "\n",
    "### GitHub remote repository creation\n",
    "Here we will create a new remote repository on GitHub. There are plenty of places on GitHub that show how to do this. Particularly, you might have a look at [this walkthrough](https://docs.github.com/en/github/importing-your-projects-to-github/importing-source-code-to-github/adding-an-existing-project-to-github-using-the-command-line) for if/when you feel like going a bit deeper on this via the GitHub docs.\n",
    "\n",
    "### Configure local repository to have a remote repository\n",
    "Now that we have a remote repository, we set up our local repository to use said remote as the destination to which we `push` committed changes. This is just a single configuration update to our local repository. And, thanks GitHub -- they are sure to provide Quick Setup tips after the completion of the remote repository creation -- handy! We'll use part of that next\n",
    "\n",
    "Here we add a remote repository named `origin` to our local repository. `origin` is just a name for the remote repository -- and alias if you will. While it could be any name, the standard is to use `origin`"
   ]
  },
  {
   "cell_type": "code",
   "execution_count": 248,
   "metadata": {},
   "outputs": [
    {
     "name": "stdout",
     "output_type": "stream",
     "text": [
      "origin\thttps://github.com/mtboren/SuperGoodProject.git (fetch)\n",
      "origin\thttps://github.com/mtboren/SuperGoodProject.git (push)\n"
     ]
    }
   ],
   "source": [
    "git remote add origin https://github.com/mtboren/SuperGoodProject.git\n",
    "git remote --verbose"
   ]
  },
  {
   "cell_type": "markdown",
   "metadata": {},
   "source": [
    "Great -- our local repository is configured to use the new GitHub repository as its remote named `origin`. Now we `push` it"
   ]
  },
  {
   "cell_type": "markdown",
   "metadata": {},
   "source": [
    "### Push\n",
    "We have a local repo with a commit, and we want to put that commit in a place that it can live on forever, regardless of the fate of the machine on which we initially created the code/docs. Also, we want to make available to all of our peers/collaborators the hot new updates that we made in our local repository.\n",
    "\n",
    "We use `push` to, well, push our local commits up to our configured remote repo. And, as a one-time thing per branch/remote combo, we have to set the \"upstream\" location to which we want to `push` our commits. That's why the `--set-upstream` parameter in this initial `push` call (subsequent `push` calls will not need this parameter)"
   ]
  },
  {
   "cell_type": "code",
   "execution_count": 249,
   "metadata": {},
   "outputs": [
    {
     "name": "stdout",
     "output_type": "stream",
     "text": [
      "Branch 'main' set up to track remote branch 'main' from 'origin'.\n",
      "To https://github.com/mtboren/SuperGoodProject.git\n",
      " * [new branch]      main -> main\n"
     ]
    }
   ],
   "source": [
    "git push --set-upstream origin main"
   ]
  },
  {
   "cell_type": "markdown",
   "metadata": {},
   "source": [
    "Success! Let's check that local repo `status`, again"
   ]
  },
  {
   "cell_type": "code",
   "execution_count": 250,
   "metadata": {},
   "outputs": [
    {
     "name": "stdout",
     "output_type": "stream",
     "text": [
      "On branch main\n",
      "Your branch is up to date with 'origin/main'.\n",
      "\n",
      "nothing to commit, working tree clean\n"
     ]
    }
   ],
   "source": [
    "git status"
   ]
  },
  {
   "cell_type": "markdown",
   "metadata": {},
   "source": [
    "Great! Everything locally is up to date with the remote, and our commit is now also stored in our source of truth -- GitHub"
   ]
  },
  {
   "cell_type": "markdown",
   "metadata": {},
   "source": [
    "### See commit in GitHub\n",
    "Alright, everyone said, \"it just works\", but let's have a look-see back at GitHub to see what our new remote repository looks like after the `push`.  Ah, not bad, not bad!\n",
    "\n",
    "### Repeat: File add/modify, commit, push\n",
    "Versions time -- we want to add some things to our repo, like:\n",
    "- a proper ReadMe that describes the purpose of the repo\n",
    "- some new feature to an existing script"
   ]
  },
  {
   "cell_type": "code",
   "execution_count": 251,
   "metadata": {},
   "outputs": [
    {
     "name": "stdout",
     "output_type": "stream",
     "text": [
      "\u001b[93mVERBOSE: Performing the operation \"Add Content\" on target \"Path: Microsoft.PowerShell.Core\\FileSystem::C:\\temp\\GitTesting\\sampleProject0-744c2a05-9356-4c9e-bc8c-09735b9ec8e1\\Get-MyPSDrive.ps1\".\u001b[0m\n"
     ]
    }
   ],
   "source": [
    "## 'enhance' some script with the feature for which someone, for some important reason, asked\n",
    "$oSampleProjectDirectory | Get-ChildItem -Filter *.ps1 | Get-Random -OutVariable oFileInfoOfScriptToEnhance |\n",
    "    Add-Content -Value 'Write-Verbose \"Script ran from $PSScriptRoot, and finished at $(Get-Date)\"' -Verbose"
   ]
  },
  {
   "cell_type": "markdown",
   "metadata": {},
   "source": [
    "K, let's see what is the difference (`diff`) between the now modified script and the original version of it in the local repository"
   ]
  },
  {
   "cell_type": "code",
   "execution_count": 252,
   "metadata": {},
   "outputs": [
    {
     "name": "stdout",
     "output_type": "stream",
     "text": [
      "diff --git a/Get-MyPSDrive.ps1 b/Get-MyPSDrive.ps1\n",
      "index 0ea2e1d..9e8050e 100644\n",
      "--- a/Get-MyPSDrive.ps1\n",
      "+++ b/Get-MyPSDrive.ps1\n",
      "@@ -1,2 +1,3 @@\n",
      " # some cool script we use all the time\n",
      " Get-PSDrive\n",
      "+Write-Verbose \"Script ran from $PSScriptRoot, and finished at $(Get-Date)\"\n"
     ]
    }
   ],
   "source": [
    "git diff"
   ]
  },
  {
   "cell_type": "markdown",
   "metadata": {},
   "source": [
    "We'll also add a ReadMe with descriptive info about this repo, so people know what the world it does"
   ]
  },
  {
   "cell_type": "code",
   "execution_count": 253,
   "metadata": {},
   "outputs": [
    {
     "name": "stdout",
     "output_type": "stream",
     "text": [
      "\u001b[93mVERBOSE: Performing the operation \"Set Content\" on target \"Path: Microsoft.PowerShell.Core\\FileSystem::C:\\temp\\GitTesting\\sampleProject0-744c2a05-9356-4c9e-bc8c-09735b9ec8e1\\ReadMe.md\".\u001b[0m\n"
     ]
    }
   ],
   "source": [
    "Set-Content -Path ReadMe.md -Value \"# The Valuable and Important code for Wonder Team X\", \"These are some scripts that we use for managing our environment\" -Verbose"
   ]
  },
  {
   "cell_type": "markdown",
   "metadata": {},
   "source": [
    "And then, we'll `add` our modifications to the list of things to be committed, `commit` the modifications, and then `push` the commit to GitHub"
   ]
  },
  {
   "cell_type": "code",
   "execution_count": 254,
   "metadata": {},
   "outputs": [
    {
     "name": "stdout",
     "output_type": "stream",
     "text": [
      "add 'Get-MyPSDrive.ps1'\n",
      "add 'ReadMe.md'\n"
     ]
    }
   ],
   "source": [
    "git add $oFileInfoOfScriptToEnhance ReadMe.md --verbose"
   ]
  },
  {
   "cell_type": "markdown",
   "metadata": {},
   "source": [
    "Check once more our status, make sure that the things that we want to commit are the only things staged for commit"
   ]
  },
  {
   "cell_type": "code",
   "execution_count": 255,
   "metadata": {},
   "outputs": [
    {
     "name": "stdout",
     "output_type": "stream",
     "text": [
      "On branch main\n",
      "Your branch is up to date with 'origin/main'.\n",
      "\n",
      "Changes to be committed:\n",
      "  (use \"git restore --staged <file>...\" to unstage)\n",
      "\tmodified:   Get-MyPSDrive.ps1\n",
      "\tnew file:   ReadMe.md\n",
      "\n"
     ]
    }
   ],
   "source": [
    "git status"
   ]
  },
  {
   "cell_type": "markdown",
   "metadata": {},
   "source": [
    "Beauty! Now, to commit and push"
   ]
  },
  {
   "cell_type": "code",
   "execution_count": 256,
   "metadata": {},
   "outputs": [
    {
     "name": "stdout",
     "output_type": "stream",
     "text": [
      "[main 296bc54] Add feature to our script (fix #1), add ReadMe\n",
      " 2 files changed, 3 insertions(+)\n",
      " create mode 100644 ReadMe.md\n"
     ]
    }
   ],
   "source": [
    "## commit with a meaningful commit message, that shows that it fixes Issue #1 (assuming that someone had submitted an Issue requesting the feature)\n",
    "git commit --message \"Add feature to our script (fix #1), add ReadMe\""
   ]
  },
  {
   "cell_type": "code",
   "execution_count": 257,
   "metadata": {},
   "outputs": [
    {
     "name": "stdout",
     "output_type": "stream",
     "text": [
      "To https://github.com/mtboren/SuperGoodProject.git\n",
      "   278e250..296bc54  main -> main\n"
     ]
    }
   ],
   "source": [
    "## push to configured remote repo \"origin\" by default\n",
    "git push"
   ]
  },
  {
   "cell_type": "markdown",
   "metadata": {},
   "source": [
    "Now, to see those updates in GitHub. Notice the auto-rendered ReadMe -- handy!"
   ]
  },
  {
   "cell_type": "markdown",
   "metadata": {},
   "source": [
    "---\n",
    "## Illustrate distinctness of local git repo and GitHub remote repo\n",
    "Local- and remote repositories have a relationship via the local repo's configured `remote`, but they are two, distinct things. Deleting one does nothing to the other, for example.\n",
    "### Delete local repo\n",
    "In fact, let's do that: we'll delete the local repository and working directory, and then see what is the state of the remote repository"
   ]
  },
  {
   "cell_type": "code",
   "execution_count": 258,
   "metadata": {},
   "outputs": [
    {
     "name": "stdout",
     "output_type": "stream",
     "text": [
      "\n",
      "Path\n",
      "----\n",
      "C:\\Users\\mtboren\\AppData\\Local\\Temp\n",
      "\n"
     ]
    }
   ],
   "source": [
    "## set location somewhere external to the local repo's working directory, so we can delete said directory\n",
    "Set-Location -Path $env:TEMP -PassThru"
   ]
  },
  {
   "cell_type": "code",
   "execution_count": 259,
   "metadata": {},
   "outputs": [
    {
     "name": "stdout",
     "output_type": "stream",
     "text": [
      "\n",
      "\u001b[95mConfirm\u001b[0m\n",
      "The item at C:\\Temp\\GitTesting\\sampleProject0-744c2a05-9356-4c9e-bc8c-09735b9ec8e1 has children and the Recurse parameter was not specified. If you continue, all children will be removed with the item. Are you sure you want to continue?\n",
      "\u001b[93m[Y] Yes  \u001b[0m\u001b[95m[A] Yes to All  \u001b[0m\u001b[95m[N] No  \u001b[0m\u001b[95m[L] No to All  \u001b[0m\u001b[95m[S] Suspend  \u001b[0m[?] Help(default is 'Y')"
     ]
    },
    {
     "name": "stdin",
     "output_type": "stream",
     "text": [
      "Select:  \n"
     ]
    }
   ],
   "source": [
    "## then, let's delete the local repo and working directory (have to -Force due to the state of some of the files in the repository directory)\n",
    "Remove-Item -Path $oSampleProjectDirectory -Force"
   ]
  },
  {
   "cell_type": "code",
   "execution_count": 260,
   "metadata": {},
   "outputs": [
    {
     "name": "stdout",
     "output_type": "stream",
     "text": [
      "\n",
      "Path                                                                   bExists\n",
      "----                                                                   -------\n",
      "C:\\Temp\\GitTesting\\sampleProject0-744c2a05-9356-4c9e-bc8c-09735b9ec8e1   False\n",
      "\n"
     ]
    }
   ],
   "source": [
    "## and, show that said folder and repo are actually gone\n",
    "New-Object -Type PSObject -Property ([ordered]@{Path = $oSampleProjectDirectory; bExists = Test-Path -Path $oSampleProjectDirectory})"
   ]
  },
  {
   "cell_type": "markdown",
   "metadata": {},
   "source": [
    "Gone -- local repo is deleted from disk. But is our remote repo (our source of truth) still intact? We'll see.."
   ]
  },
  {
   "cell_type": "markdown",
   "metadata": {},
   "source": [
    "### Remote repo persists in GitHub\n",
    "We've now deleted the local repo and working directory from the local filesystem. We're _pretty_ confident that the remote is still intact, but let's confirm (goto https://github.com/mtboren/SuperGoodProject.git now!)\n",
    "\n",
    "All good? Whew 😍. So, this means that:\n",
    "- if we've vetted the remote service (GitHub), we can depend on the service as our persistent source of truth\n",
    "- we can then free ourselves of having to treat local copies of code as wonderful snowflakes to have and to hold, to make copies as backup, to care about the things on the local filesystem beyond the last `commit`/`push` -- liberated! 🗽\n",
    "- we can delete local copies at will (after we've `push`ed) -- the remote is the source of truth!\n",
    "- we should always be able to recreate a local copy of the repo at a `clone`'s notice -- we'll see about cloning in the Collaboration section below\n",
    "\n",
    "---\n",
    "## Collaboration\n",
    "Now that we have our code in some remote repository, we are all set to collaborate with all the brilliant minds that have even read access to said remote repository -- discuss issues, merge their code updates (either directly, or with review gates in place), plan projects, publish releases, maintain a wiki, etc!\n",
    "### Work on the latest: Clone of a remote repo\n",
    "When we're ready to start crunching code and we don't already have a local copy of a repo, we can `clone` the repo down from the remote"
   ]
  },
  {
   "cell_type": "code",
   "execution_count": 261,
   "metadata": {},
   "outputs": [
    {
     "name": "stdout",
     "output_type": "stream",
     "text": [
      "Cloning into 'C:\\Users\\mtboren\\AppData\\Local\\Temp\\superGoodProj_clone-3e6138f2-761b-4211-88f7-ae2b4fd55ff2'...\n"
     ]
    }
   ],
   "source": [
    "## clone from remote to a subfolder in the specified path\n",
    "$strDirectoryOfNewRepoClone = \"${env:Temp}\\superGoodProj_clone-$(New-Guid)\"\n",
    "git clone https://github.com/mtboren/SuperGoodProject.git $strDirectoryOfNewRepoClone\n",
    "Set-Location -Path $strDirectoryOfNewRepoClone"
   ]
  },
  {
   "cell_type": "code",
   "execution_count": 262,
   "metadata": {},
   "outputs": [
    {
     "name": "stdout",
     "output_type": "stream",
     "text": [
      "\n",
      "\n",
      "    Directory: \n",
      "C:\\Users\\mtboren\\AppData\\Local\\Temp\\superGoodProj_clone-3e6138f2-761b-4211-88f7-ae2b4fd55ff2\n",
      "\n",
      "Mode                 LastWriteTime         Length Name\n",
      "----                 -------------         ------ ----\n",
      "d--h-           6/15/2021  8:39 PM                .git\n",
      "-a---           6/15/2021  8:39 PM             55 Get-MyChildItem.ps1\n",
      "-a---           6/15/2021  8:39 PM             54 Get-MyLocation.ps1\n",
      "-a---           6/15/2021  8:39 PM            129 Get-MyPSDrive.ps1\n",
      "-a---           6/15/2021  8:39 PM             59 Get-MyRunspaceDebug.ps1\n",
      "-a---           6/15/2021  8:39 PM             52 Get-MyUnique.ps1\n",
      "-a---           6/15/2021  8:39 PM             54 Get-MyVariable.ps1\n",
      "-a---           6/15/2021  8:39 PM            118 ReadMe.md\n",
      "\n"
     ]
    }
   ],
   "source": [
    "Get-ChildItem -Path $strDirectoryOfNewRepoClone -Force"
   ]
  },
  {
   "cell_type": "markdown",
   "metadata": {},
   "source": [
    "Bam! We now have a local clone of the remote, and we're ready to start making the project ever better! We proceed to do our modifications in the working directory, then the ol' `add` / `commit` / `push` routine that we know and love :heart: by now!"
   ]
  },
  {
   "cell_type": "code",
   "execution_count": 263,
   "metadata": {},
   "outputs": [
    {
     "name": "stdout",
     "output_type": "stream",
     "text": [
      "\u001b[93mVERBOSE: Performing the operation \"Add Content\" on target \"Path: Microsoft.PowerShell.Core\\FileSystem::C:\\Users\\mtboren\\AppData\\Local\\Temp\\superGoodProj_clone-3e6138f2-761b-4211-88f7-ae2b4fd55ff2\\Get-MyLocation.ps1\".\u001b[0m\n",
      "\u001b[93mVERBOSE: Performing the operation \"Remove File\" on target \"C:\\Users\\mtboren\\AppData\\Local\\Temp\\superGoodProj_clone-3e6138f2-761b-4211-88f7-ae2b4fd55ff2\\Get-MyChildItem.ps1\".\u001b[0m\n"
     ]
    }
   ],
   "source": [
    "## edit another file (add help to it)\n",
    "$strDirectoryOfNewRepoClone | Get-ChildItem -Filter *.ps1 | Get-Random -OutVariable oFileInfoOfAnotherScriptToEnhance |\n",
    "    Add-Content -Value \"<# .Description\", \"Get the important things\", \".Example\", \"$($oFileInfoOfAnotherScriptToEnhance.Name) -Verbose\",\n",
    "    \"$($oFileInfoOfAnotherScriptToEnhance.BaseName) for all the things, for when you really need to do so\", \"#>\" -Verbose\n",
    "\n",
    "## and, delete one file that our team decided we don't need anymore\n",
    "$strDirectoryOfNewRepoClone | Get-ChildItem -Filter *.ps1 | Get-Random -OutVariable oFileInfoOfScriptToRemove | Remove-Item -Verbose"
   ]
  },
  {
   "cell_type": "code",
   "execution_count": 264,
   "metadata": {},
   "outputs": [
    {
     "name": "stdout",
     "output_type": "stream",
     "text": [
      "\n",
      "NAME\n",
      "    C:\\Users\\mtboren\\AppData\\Local\\Temp\\superGoodProj_clone-3e6138f2-761b-4211-88f7-ae2b4fd55ff2\\Ge\n",
      "    t-MyLocation.ps1\n",
      "    \n",
      "SYNOPSIS\n",
      "    \n",
      "    \n",
      "SYNTAX\n",
      "    C:\\Users\\mtboren\\AppData\\Local\\Temp\\superGoodProj_clone-3e6138f2-761b-4211-88f7-ae2b4fd55ff2\\Ge\n",
      "    t-MyLocation.ps1 [<CommonParameters>]\n",
      "    \n",
      "    \n",
      "DESCRIPTION\n",
      "    Get the important things\n",
      "    \n",
      "\n",
      "PARAMETERS\n",
      "    <CommonParameters>\n",
      "        This cmdlet supports the common parameters: Verbose, Debug,\n",
      "        ErrorAction, ErrorVariable, WarningAction, WarningVariable,\n",
      "        OutBuffer, PipelineVariable, and OutVariable. For more information, see\n",
      "        about_CommonParameters (https://go.microsoft.com/fwlink/?LinkID=113216). \n",
      "    \n",
      "INPUTS\n",
      "    \n",
      "OUTPUTS\n",
      "    \n",
      "    -------------------------- EXAMPLE 1 --------------------------\n",
      "    \n",
      "    PS > Get-MyItemProperty.ps1 -Verbose\n",
      "    Get-MyItemProperty for all the things, for when you really need to do so\n",
      "    \n",
      "    \n",
      "    \n",
      "    \n",
      "    \n",
      "    \n",
      "    \n",
      "RELATED LINKS\n",
      "\n",
      "\n"
     ]
    }
   ],
   "source": [
    "## we added some initial Help to one of the scripts (we should have it in _all_ of our scripts!)\n",
    "Get-Help -Full $oFileInfoOfAnotherScriptToEnhance[0]"
   ]
  },
  {
   "cell_type": "code",
   "execution_count": 265,
   "metadata": {},
   "outputs": [
    {
     "name": "stdout",
     "output_type": "stream",
     "text": [
      "add 'Get-MyLocation.ps1'\n",
      "rm 'Get-MyChildItem.ps1'\n"
     ]
    }
   ],
   "source": [
    "## stage changes\n",
    "git add $oFileInfoOfAnotherScriptToEnhance --verbose\n",
    "git rm $oFileInfoOfScriptToRemove"
   ]
  },
  {
   "cell_type": "code",
   "execution_count": 266,
   "metadata": {},
   "outputs": [
    {
     "name": "stdout",
     "output_type": "stream",
     "text": [
      "On branch main\n",
      "Your branch is up to date with 'origin/main'.\n",
      "\n",
      "Changes to be committed:\n",
      "  (use \"git restore --staged <file>...\" to unstage)\n",
      "\tdeleted:    Get-MyChildItem.ps1\n",
      "\tmodified:   Get-MyLocation.ps1\n",
      "\n",
      "diff --git a/Get-MyChildItem.ps1 b/Get-MyChildItem.ps1\n",
      "deleted file mode 100644\n",
      "index c531526..0000000\n",
      "--- a/Get-MyChildItem.ps1\n",
      "+++ /dev/null\n",
      "@@ -1,2 +0,0 @@\n",
      "-# some cool script we use all the time\n",
      "-Get-ChildItem\n",
      "diff --git a/Get-MyLocation.ps1 b/Get-MyLocation.ps1\n",
      "index 4db7846..91acf91 100644\n",
      "--- a/Get-MyLocation.ps1\n",
      "+++ b/Get-MyLocation.ps1\n",
      "@@ -1,2 +1,8 @@\n",
      " # some cool script we use all the time\n",
      " Get-Location\n",
      "+<# .Description\n",
      "+Get the important things\n",
      "+.Example\n",
      "+Get-MyItemProperty.ps1 -Verbose\n",
      "+Get-MyItemProperty for all the things, for when you really need to do so\n",
      "+#>\n"
     ]
    }
   ],
   "source": [
    "## before commit, check the status and see the diff\n",
    "git status\n",
    "git diff --staged"
   ]
  },
  {
   "cell_type": "code",
   "execution_count": 267,
   "metadata": {},
   "outputs": [
    {
     "name": "stdout",
     "output_type": "stream",
     "text": [
      "[main 1fa84a7] Added help, removed obsolete script (fix #2)\n",
      " 2 files changed, 6 insertions(+), 2 deletions(-)\n",
      " delete mode 100644 Get-MyChildItem.ps1\n",
      "To https://github.com/mtboren/SuperGoodProject.git\n",
      "   296bc54..1fa84a7  main -> main\n"
     ]
    }
   ],
   "source": [
    "## commit, push\n",
    "git commit -m \"Added help, removed obsolete script (fix #2)\"\n",
    "git push"
   ]
  },
  {
   "cell_type": "markdown",
   "metadata": {},
   "source": [
    "¡Voila! We cloned down a local copy of the repo, made and reviewed our changes, added/committed, and the pushed the commit up to the origin / source of truth! Collaboration in full effect.\n",
    "\n",
    "When done, we'll clean up the temporary local clone of the repo, since all of our wonderful adds (and deletes) have been pushed to the trusty remote reposity (GitHub). Yess!"
   ]
  },
  {
   "cell_type": "code",
   "execution_count": 268,
   "metadata": {},
   "outputs": [
    {
     "name": "stdout",
     "output_type": "stream",
     "text": [
      "\n",
      "\u001b[95mConfirm\u001b[0m\n",
      "The item at C:\\Users\\mtboren\\AppData\\Local\\Temp\\superGoodProj_clone-3e6138f2-761b-4211-88f7-ae2b4fd55ff2 has children and the Recurse parameter was not specified. If you continue, all children will be removed with the item. Are you sure you want to continue?\n",
      "\u001b[93m[Y] Yes  \u001b[0m\u001b[95m[A] Yes to All  \u001b[0m\u001b[95m[N] No  \u001b[0m\u001b[95m[L] No to All  \u001b[0m\u001b[95m[S] Suspend  \u001b[0m[?] Help(default is 'Y')"
     ]
    },
    {
     "name": "stdin",
     "output_type": "stream",
     "text": [
      "Select:  y\n"
     ]
    }
   ],
   "source": [
    "## clean up the temporary local clone, now that we've pushed our changes\n",
    "Set-Location $env:TEMP\n",
    "Remove-Item -Path $strDirectoryOfNewRepoClone -Force"
   ]
  },
  {
   "cell_type": "markdown",
   "metadata": {},
   "source": [
    "### History in GitHub (diffs, etc)\n",
    "Coding and versioning and collaborating -- oh, my!  Let's have a look at the repo, its commits, the history, etc: https://github.com/mtboren/SuperGoodProject.git\n",
    "\n",
    "---\n",
    "## Some Git technical details\n",
    "Some details about the elements that comprise the version controlled repo, the working files on disk, etc.\n",
    "### Git verbs and what they do on filesystem: a .git graphic\n",
    "Have a look at the basic git operations graphic: ![git operations graphic](./resources/git-operations.png)"
   ]
  }
 ],
 "metadata": {
  "kernelspec": {
   "display_name": ".NET (PowerShell)",
   "language": "PowerShell",
   "name": ".net-powershell"
  },
  "language_info": {
   "file_extension": ".ps1",
   "mimetype": "text/x-powershell",
   "name": "PowerShell",
   "pygments_lexer": "powershell",
   "version": "7.0"
  }
 },
 "nbformat": 4,
 "nbformat_minor": 4
}
