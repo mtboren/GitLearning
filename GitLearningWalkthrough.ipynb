{
 "cells": [
  {
   "cell_type": "markdown",
   "metadata": {},
   "source": [
    "# Git Learning examples walkthrough\n",
    "Some examples of using Git for version control\n",
    "\n",
    "New local repository\n",
    "- init new local repo\n",
    "- add files\n",
    "- commit changes\n",
    "- see commit log\n",
    "\n",
    "Have a remote repository\n",
    "- walk through GitHub repo creation\n",
    "- local repo remote add\n",
    "- git push\n",
    "- see commit in GitHub\n",
    "- modification/new doc add, commit, push, to see subsequent commits in GH\n",
    "\n",
    "Illustrate distinctness of local git repo and GitHub remote repo\n",
    "- delete local clone of repo\n",
    "- remote repo persists in GH\n",
    "\n",
    "Collaboration\n",
    "- clone of repo to another filesystem location or computer\n",
    "- show history in GitHub (diffs, etc)\n",
    "\n",
    "Git tech details\n",
    "- explain git verbs and what they do on filesystem by showing .git graphic\n",
    "\n",
    "---\n",
    "## New Local repo\n",
    "Creating a new, local, version controlled repository. In this example, we'll have a folder of existing scripts (made on the fly) that will be our sample contents of interest."
   ]
  },
  {
   "cell_type": "code",
   "execution_count": 31,
   "metadata": {},
   "outputs": [
    {
     "name": "stdout",
     "output_type": "stream",
     "text": [
      "\u001b[93mVERBOSE: Performing the operation \"Set Content\" on target \"Path: C:\\Temp\\GitTesting\\sampleProject0-246ea0e4-b95a-400a-9026-ff1d4cdde0a9\\Get-MyTraceSource.ps1\".\u001b[0m\n",
      "\u001b[93mVERBOSE: Performing the operation \"Set Content\" on target \"Path: C:\\Temp\\GitTesting\\sampleProject0-246ea0e4-b95a-400a-9026-ff1d4cdde0a9\\Get-MyPSDrive.ps1\".\u001b[0m\n",
      "\u001b[93mVERBOSE: Performing the operation \"Set Content\" on target \"Path: C:\\Temp\\GitTesting\\sampleProject0-246ea0e4-b95a-400a-9026-ff1d4cdde0a9\\Get-MyHotFix.ps1\".\u001b[0m\n",
      "\u001b[93mVERBOSE: Performing the operation \"Set Content\" on target \"Path: C:\\Temp\\GitTesting\\sampleProject0-246ea0e4-b95a-400a-9026-ff1d4cdde0a9\\Get-MyItem.ps1\".\u001b[0m\n",
      "\u001b[93mVERBOSE: Performing the operation \"Set Content\" on target \"Path: C:\\Temp\\GitTesting\\sampleProject0-246ea0e4-b95a-400a-9026-ff1d4cdde0a9\\Get-MyComputerInfo.ps1\".\u001b[0m\n",
      "\u001b[93mVERBOSE: Performing the operation \"Set Content\" on target \"Path: C:\\Temp\\GitTesting\\sampleProject0-246ea0e4-b95a-400a-9026-ff1d4cdde0a9\\Get-MyDate.ps1\".\u001b[0m\n",
      "\n",
      "\n",
      "    Directory: C:\\temp\\GitTesting\\sampleProject0-246ea0e4-b95a-400a-9026-ff1d4cdde0a9\n",
      "\n",
      "Mode                 LastWriteTime         Length Name\n",
      "----                 -------------         ------ ----\n",
      "-a---           6/14/2021  4:39 PM             57 Get-MyComputerInfo.ps1\n",
      "-a---           6/14/2021  4:39 PM             49 Get-MyDate.ps1\n",
      "-a---           6/14/2021  4:39 PM             51 Get-MyHotFix.ps1\n",
      "-a---           6/14/2021  4:39 PM             49 Get-MyItem.ps1\n",
      "-a---           6/14/2021  4:39 PM             52 Get-MyPSDrive.ps1\n",
      "-a---           6/14/2021  4:39 PM             56 Get-MyTraceSource.ps1\n",
      "\n"
     ]
    }
   ],
   "source": [
    "## setup for demo some test folder / files / etc, and set location as the new folder\n",
    "($oSampleProjectDirectory = New-Item -ItemType Directory -Path C:\\Temp\\GitTesting\\sampleProject0-$(New-Guid)) | Set-Location\n",
    "## create a few, clearly useful scripts that represent some body of code/scripts/documents that are the items we want in our repo\n",
    "Get-Command -Module Microsoft.PowerShell.Utility, Microsoft.PowerShell.Management -Verb Get | Get-Random -Count 6 |\n",
    "    ForEach-Object {\n",
    "        Set-Content -Path (Join-Path -Path $oSampleProjectDirectory.FullName -ChildPath (\"{0}-My{1}.ps1\" -f $_.Verb, $_.Noun)) `\n",
    "            -Value \"# some cool script we use all the time`n$($_.Name)\" -Encoding ascii -Verbose\n",
    "    }\n",
    "\n",
    "## see the contents of our sample project folder\n",
    "$oSampleProjectDirectory | Get-ChildItem -OutVariable arrOurScriptFilesInfo"
   ]
  },
  {
   "cell_type": "markdown",
   "metadata": {},
   "source": [
    "### Initialize new local repo\n",
    "Here we have a now a local folder of our super useful scripts and possibly accompanying docs whose versions we want to start controlling via Git. In order to make a new Git version control repository, we initialize said new repository with the verb [init](https://git-scm.com/docs/git-init). There is a parameter supplied here, too, to specify the name of the primary \"branch\" of the repository (we'll call it `main`)"
   ]
  },
  {
   "cell_type": "code",
   "execution_count": 32,
   "metadata": {},
   "outputs": [
    {
     "name": "stdout",
     "output_type": "stream",
     "text": [
      "Microsoft.PowerShell.Core\\FileSystem::C:\\temp\\GitTesting\\sampleProject0-246ea0e4-b95a-400a-9026-ff1d4cdde0a9\n",
      "Initialized empty Git repository in C:/temp/GitTesting/sampleProject0-246ea0e4-b95a-400a-9026-ff1d4cdde0a9/.git/\n"
     ]
    }
   ],
   "source": [
    "(Get-Location).Path ## show that we are currently in our folder of files that we want to use for our new repo\n",
    "git init --initial-branch main"
   ]
  },
  {
   "cell_type": "markdown",
   "metadata": {},
   "source": [
    "### Status\n",
    "To see the status of our local repository, we use the `status` verb. This shows us things like new (\"untracked\") / modified / deleted files in the working directory, the branch on which we are, along with contextual info about what next"
   ]
  },
  {
   "cell_type": "code",
   "execution_count": 33,
   "metadata": {},
   "outputs": [
    {
     "name": "stdout",
     "output_type": "stream",
     "text": [
      "On branch main\n",
      "\n",
      "No commits yet\n",
      "\n",
      "Untracked files:\n",
      "  (use \"git add <file>...\" to include in what will be committed)\n",
      "\tGet-MyComputerInfo.ps1\n",
      "\tGet-MyDate.ps1\n",
      "\tGet-MyHotFix.ps1\n",
      "\tGet-MyItem.ps1\n",
      "\tGet-MyPSDrive.ps1\n",
      "\tGet-MyTraceSource.ps1\n",
      "\n",
      "nothing added to commit but untracked files present (use \"git add\" to track)\n"
     ]
    }
   ],
   "source": [
    "## get the git status\n",
    "git status"
   ]
  },
  {
   "cell_type": "markdown",
   "metadata": {},
   "source": [
    "Here we see that there are no commits, yet, that we have a bunch of new (\"untracked\") files, and that we can do something like `git add` to stage some files"
   ]
  },
  {
   "cell_type": "markdown",
   "metadata": {},
   "source": [
    "### Add\n",
    "In order to include new and modified files in our repository, we first `add` them to the list of items to be committed"
   ]
  },
  {
   "cell_type": "code",
   "execution_count": 34,
   "metadata": {},
   "outputs": [
    {
     "name": "stdout",
     "output_type": "stream",
     "text": [
      "warning: LF will be replaced by CRLF in Get-MyComputerInfo.ps1.\n",
      "The file will have its original line endings in your working directory\n",
      "warning: LF will be replaced by CRLF in Get-MyDate.ps1.\n",
      "The file will have its original line endings in your working directory\n",
      "warning: LF will be replaced by CRLF in Get-MyHotFix.ps1.\n",
      "The file will have its original line endings in your working directory\n",
      "warning: LF will be replaced by CRLF in Get-MyItem.ps1.\n",
      "The file will have its original line endings in your working directory\n",
      "warning: LF will be replaced by CRLF in Get-MyPSDrive.ps1.\n",
      "The file will have its original line endings in your working directory\n",
      "warning: LF will be replaced by CRLF in Get-MyTraceSource.ps1.\n",
      "The file will have its original line endings in your working directory\n"
     ]
    }
   ],
   "source": [
    "## add some files to be a part of our repository\n",
    "git add $arrOurScriptFilesInfo"
   ]
  },
  {
   "cell_type": "markdown",
   "metadata": {},
   "source": [
    "Here, the variable `$arrOurScriptFilesInfo` holds the `FileInfo` info for all of the files in our working directory. We can explicitly name the files to add, use wildcards, take input from other commands, etc.\n",
    "\n",
    "Let's check the repository status again, after having added those files"
   ]
  },
  {
   "cell_type": "code",
   "execution_count": 35,
   "metadata": {},
   "outputs": [
    {
     "name": "stdout",
     "output_type": "stream",
     "text": [
      "On branch main\n",
      "\n",
      "No commits yet\n",
      "\n",
      "Changes to be committed:\n",
      "  (use \"git rm --cached <file>...\" to unstage)\n",
      "\tnew file:   Get-MyComputerInfo.ps1\n",
      "\tnew file:   Get-MyDate.ps1\n",
      "\tnew file:   Get-MyHotFix.ps1\n",
      "\tnew file:   Get-MyItem.ps1\n",
      "\tnew file:   Get-MyPSDrive.ps1\n",
      "\tnew file:   Get-MyTraceSource.ps1\n",
      "\n"
     ]
    }
   ],
   "source": [
    "git status"
   ]
  },
  {
   "cell_type": "markdown",
   "metadata": {},
   "source": [
    "Progress -- we have some changes to be committed, now! Look at all those new files"
   ]
  },
  {
   "cell_type": "markdown",
   "metadata": {},
   "source": [
    "### Commit\n",
    "Once we have added (\"staged\") some changes for our repository, we then `commit` those changes. We want to have a meaningful message about what we achieved in this commit, so that others can quickly/easily understand the purpose of the commit (should not describe every character that was altered -- there are `diff`s for that)"
   ]
  },
  {
   "cell_type": "code",
   "execution_count": 36,
   "metadata": {},
   "outputs": [
    {
     "name": "stdout",
     "output_type": "stream",
     "text": [
      "[main (root-commit) eb12926] Initial commit to get our precious scripts into our new repo\n",
      " 6 files changed, 12 insertions(+)\n",
      " create mode 100644 Get-MyComputerInfo.ps1\n",
      " create mode 100644 Get-MyDate.ps1\n",
      " create mode 100644 Get-MyHotFix.ps1\n",
      " create mode 100644 Get-MyItem.ps1\n",
      " create mode 100644 Get-MyPSDrive.ps1\n",
      " create mode 100644 Get-MyTraceSource.ps1\n"
     ]
    }
   ],
   "source": [
    "git commit --message \"Initial commit to get our precious scripts into our new repo\""
   ]
  },
  {
   "cell_type": "markdown",
   "metadata": {},
   "source": [
    "### Log\n",
    "We are building a history for all of the things in our repository. To see info about when we committed such changes, we use the git `log`. Let's see what our repository's log looks like now"
   ]
  },
  {
   "cell_type": "code",
   "execution_count": 37,
   "metadata": {},
   "outputs": [
    {
     "name": "stdout",
     "output_type": "stream",
     "text": [
      "commit eb12926c21d422b21224fb368f4cfab961060d41\n",
      "Author: MTBoren <technology@ddayinc.com>\n",
      "Date:   Mon Jun 14 16:46:15 2021 -0400\n",
      "\n",
      "    Initial commit to get our precious scripts into our new repo\n"
     ]
    }
   ],
   "source": [
    "git log"
   ]
  },
  {
   "cell_type": "markdown",
   "metadata": {},
   "source": [
    "Alright -- we have a legit commit with things like the author info, the date/time of the commit, the commit ID, and the commit message -- yess!"
   ]
  },
  {
   "cell_type": "markdown",
   "metadata": {},
   "source": [
    "---\n",
    "## Have a remote repository\n",
    "Using a local repository for controlling version of our important things is great. For many reasons, though, we want to then leverage the power of adding a _remote_ repository at which to house an authoritative copy of our repository/code/documents -- the source of truth!\n",
    "\n",
    "For this, we will create a new remote repository on the wildly popular GitHub social coding platform\n",
    "\n",
    "### GitHub remote repository creation\n",
    "Here we will create a new remote repository on GitHub. There are plenty of places on GitHub that show how to do this. Particularly, you might have a look at [this walkthrough](https://docs.github.com/en/github/importing-your-projects-to-github/importing-source-code-to-github/adding-an-existing-project-to-github-using-the-command-line) for if/when you feel like going a bit deeper on this via the GitHub docs.\n",
    "\n",
    "### Configure local repository to have a remote repository\n",
    "Now that we have a remote repository, we set up our local repository to use said remote as the destination to which we `push` committed changes. This is just a single configuration update to our local repository. And, thanks GitHub -- they are sure to provide Quick Setup tips after the completion of the remote repository creation -- handy! We'll use part of that next\n",
    "\n",
    "Here we add a remote repository named `origin` to our local repository. `origin` is just a name for the remote repository -- and alias if you will. While it could be any name, the standard is to use `origin`"
   ]
  },
  {
   "cell_type": "code",
   "execution_count": 41,
   "metadata": {},
   "outputs": [
    {
     "name": "stdout",
     "output_type": "stream",
     "text": [
      "origin\thttps://github.com/mtboren/SuperGoodProject.git (fetch)\n",
      "origin\thttps://github.com/mtboren/SuperGoodProject.git (push)\n"
     ]
    }
   ],
   "source": [
    "git remote add origin https://github.com/mtboren/SuperGoodProject.git\n",
    "git remote --verbose"
   ]
  },
  {
   "cell_type": "markdown",
   "metadata": {},
   "source": [
    "Great -- our local repository is configured to use the new GitHub repository as its remote named `origin`. Now we `push` it"
   ]
  },
  {
   "cell_type": "markdown",
   "metadata": {},
   "source": [
    "### Push\n",
    "We have a local repo with a commit, and we want to put that commit in a place that it can live on forever, regardless of the fate of the machine on which we initially created the code/docs. Also, we want to make available to all of our peers/collaborators the hot new updates that we made in our local repository.\n",
    "\n",
    "We use `push` to, well, push our local commits up to our configured remote repo. And, as a one-time thing per branch/remote combo, we have to set the \"upstream\" location to which we want to `push` our commits. That's why the `--set-upstream` parameter in this initial `push` call (subsequent `push` calls will not need this parameter)"
   ]
  },
  {
   "cell_type": "code",
   "execution_count": 43,
   "metadata": {},
   "outputs": [
    {
     "name": "stdout",
     "output_type": "stream",
     "text": [
      "Branch 'main' set up to track remote branch 'main' from 'origin'.\n",
      "To https://github.com/mtboren/SuperGoodProject.git\n",
      " * [new branch]      main -> main\n"
     ]
    }
   ],
   "source": [
    "git push --set-upstream origin main"
   ]
  },
  {
   "cell_type": "markdown",
   "metadata": {},
   "source": [
    "Success! Let's check that local repo `status`, again"
   ]
  },
  {
   "cell_type": "code",
   "execution_count": 44,
   "metadata": {},
   "outputs": [
    {
     "name": "stdout",
     "output_type": "stream",
     "text": [
      "On branch main\n",
      "Your branch is up to date with 'origin/main'.\n",
      "\n",
      "nothing to commit, working tree clean\n"
     ]
    }
   ],
   "source": [
    "git status"
   ]
  },
  {
   "cell_type": "markdown",
   "metadata": {},
   "source": [
    "Great! Everything locally is up to date with the remote, and our commit is now also stored in our source of truth -- GitHub"
   ]
  },
  {
   "cell_type": "markdown",
   "metadata": {},
   "source": [
    "### See commit in GitHub\n",
    "Alright, everyone said, \"it just works\", but let's have a look-see back at GitHub to see what our new remote repository looks like after the `push`.  Ah, not bad, not bad!\n",
    "\n",
    "### Repeat: File add/modify, commit, push\n",
    "Versions time -- we want to add some things to our repo, like:\n",
    "- a proper ReadMe that describes the purpose of the repo\n",
    "- some new feature to an existing script"
   ]
  },
  {
   "cell_type": "code",
   "execution_count": 45,
   "metadata": {},
   "outputs": [],
   "source": [
    "## 'enhance' some script with the feature for which someone, for some important reason, asked\n",
    "$oSampleProjectDirectory | Get-ChildItem -Filter *.ps1 -OutVariable oFileInfoOfScriptToEnhance | Get-Random |\n",
    "    Add-Content -Value 'Write-Verbose \"Script ran from $PSScriptRoot, and finished at $(Get-Date)\"'"
   ]
  },
  {
   "cell_type": "markdown",
   "metadata": {},
   "source": [
    "K, let's see what is the difference (`diff`) between the now modified script and the original version of it in the local repository"
   ]
  },
  {
   "cell_type": "code",
   "execution_count": 46,
   "metadata": {},
   "outputs": [
    {
     "name": "stdout",
     "output_type": "stream",
     "text": [
      "warning: LF will be replaced by CRLF in Get-MyDate.ps1.\n",
      "The file will have its original line endings in your working directory\n",
      "diff --git a/Get-MyDate.ps1 b/Get-MyDate.ps1\n",
      "index 0399325..977d8a1 100644\n",
      "--- a/Get-MyDate.ps1\n",
      "+++ b/Get-MyDate.ps1\n",
      "@@ -1,2 +1,3 @@\n",
      " # some cool script we use all the time\n",
      " Get-Date\n",
      "+Write-Verbose \"Script ran from $PSScriptRoot, and finished at $(Get-Date)\"\n"
     ]
    }
   ],
   "source": [
    "git diff"
   ]
  },
  {
   "cell_type": "markdown",
   "metadata": {},
   "source": [
    "Now, to see those updates in GitHub. Notice the auto-rendered ReadMe -- handy!"
   ]
  },
  {
   "cell_type": "markdown",
   "metadata": {},
   "source": [
    "---\n",
    "## Illustrate distinctness of local git repo and GitHub remote repo\n",
    "### delete local clone of repo\n",
    "### remote repo persists in GH\n",
    "\n",
    "---\n",
    "## Collaboration\n",
    "### clone of repo to another filesystem location or computer\n",
    "### show history in GitHub (diffs, etc)\n",
    "\n",
    "---\n",
    "## Git tech details\n",
    "### explain git verbs and what they do on filesystem by showing .git graphic"
   ]
  }
 ],
 "metadata": {
  "kernelspec": {
   "display_name": ".NET (PowerShell)",
   "language": "PowerShell",
   "name": ".net-powershell"
  },
  "language_info": {
   "file_extension": ".ps1",
   "mimetype": "text/x-powershell",
   "name": "PowerShell",
   "pygments_lexer": "powershell",
   "version": "7.0"
  }
 },
 "nbformat": 4,
 "nbformat_minor": 4
}
